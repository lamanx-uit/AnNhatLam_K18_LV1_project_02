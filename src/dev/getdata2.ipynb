{
 "cells": [
  {
   "cell_type": "code",
   "execution_count": 23,
   "id": "64370a9a",
   "metadata": {},
   "outputs": [],
   "source": [
    "import pandas as pd\n",
    "import requests as req\n",
    "import json\n",
    "import time\n",
    "import openpyxl as px\n",
    "import html\n",
    "import re\n",
    "from bs4 import BeautifulSoup\n",
    "import threading\n",
    "import queue\n",
    "from requests.adapters import HTTPAdapter\n",
    "import os\n",
    "import random\n",
    "import logging\n",
    "from pathlib import Path"
   ]
  },
  {
   "cell_type": "code",
   "execution_count": 78,
   "id": "e6af0897",
   "metadata": {},
   "outputs": [],
   "source": [
    "import psycopg2\n",
    "from configparser import ConfigParser\n",
    "\n",
    "def load_config(filename='database.ini', section='postgresql'):\n",
    "    parser = ConfigParser()\n",
    "    parser.read(filename)\n",
    "\n",
    "    # get section, default to postgresql\n",
    "    config = {}\n",
    "    if parser.has_section(section):\n",
    "        params = parser.items(section)\n",
    "        for param in params:\n",
    "            config[param[0]] = param[1]\n",
    "    else:\n",
    "        raise Exception('Section {0} not found in the {1} file'.format(section, filename))\n",
    "\n",
    "    return config"
   ]
  },
  {
   "cell_type": "code",
   "execution_count": 77,
   "id": "de381b12",
   "metadata": {},
   "outputs": [],
   "source": [
    "def connect(config):\n",
    "    \"\"\" Connect to the PostgreSQL database server \"\"\"\n",
    "    try:\n",
    "        # connecting to the PostgreSQL server\n",
    "        with psycopg2.connect(**config) as conn:\n",
    "            print('Connected to the PostgreSQL server.')\n",
    "            return conn\n",
    "    except (psycopg2.DatabaseError, Exception) as error:\n",
    "        print(error)"
   ]
  },
  {
   "cell_type": "code",
   "execution_count": null,
   "id": "2e895cc3",
   "metadata": {},
   "outputs": [],
   "source": [
    "def get_data(datafile):\n",
    "    with open(datafile, 'r', encoding='utf-8') as f:\n",
    "        data = json.load(f)\n",
    "    return data "
   ]
  },
  {
   "cell_type": "code",
   "execution_count": null,
   "id": "00793e70",
   "metadata": {},
   "outputs": [],
   "source": [
    "def import_products(data, conn):\n",
    "    sql = \"\"\"\n",
    "        INSERT INTO products (product_id, name, price, url_key, description)\n",
    "        VALUES (%s, %s, %s, %s, %s)\n",
    "        ON CONFLICT (product_id) DO NOTHING\n",
    "    \"\"\"\n",
    "    result = {\n",
    "        'summary': { \n",
    "            'total': len(data),\n",
    "            'successful': 0,\n",
    "            'failed': 0,\n",
    "            'skipped': 0\n",
    "        },\n",
    "        'inserted_products': [],\n",
    "        'failed_products': [],\n",
    "    }\n",
    "    try:\n",
    "        with conn.cursor() as cur:\n",
    "            for product in data:\n",
    "                try:\n",
    "                    product_data = (\n",
    "                        product.get('id', \"\"),\n",
    "                        product.get('name', \"\"),\n",
    "                        product.get('price', \"\"),\n",
    "                        product.get('url_key', \"\"),\n",
    "                        product.get('description', \"\"),\n",
    "                    )\n",
    "\n",
    "                    cur.execute(sql, product_data)\n",
    "\n",
    "                    if cur.rowcount > 0:  # Check if actually inserted\n",
    "                        # New insert - but no RETURNING needed với ON CONFLICT\n",
    "                        product_id = product.get('id')  # Use original ID\n",
    "                        result['inserted_products'].append({'id': product_id})\n",
    "                        result['summary']['successful'] += 1\n",
    "                    else:\n",
    "                        # Skipped due to conflict - not an error\n",
    "                        print(f\"Product {product.get('id')} already exists, skipped\") \n",
    "                        result['summary']['skipped'] += 1               \n",
    "                    \n",
    "                except (Exception, psycopg2.DatabaseError) as error:\n",
    "                    print(f\"Error inserting product: {error}\")\n",
    "                    result['failed_products'].append({'id': product.get('id', \"\"), 'error': str(error)})\n",
    "                    result['summary']['failed'] += 1\n",
    "                    continue\n",
    "\n",
    "            conn.commit()\n",
    "    except (Exception, psycopg2.DatabaseError) as error:\n",
    "        print(f\"Error inserting product: {error}\")\n",
    "    finally:\n",
    "        return result"
   ]
  },
  {
   "cell_type": "code",
   "execution_count": null,
   "id": "5552fb23",
   "metadata": {},
   "outputs": [],
   "source": [
    "def import_images(data, conn):\n",
    "    sql = \"\"\"\n",
    "        INSERT INTO images (product_id, images_url)\n",
    "        VALUES (%s, %s)\n",
    "        ON CONFLICT (product_id, images_url) DO NOTHING\n",
    "    \"\"\"\n",
    "    result = {\n",
    "        'summary': { \n",
    "            'total': len(data),\n",
    "            'successful': 0,\n",
    "            'failed': 0,\n",
    "            'skipped': 0\n",
    "        },\n",
    "        'inserted_products': [],\n",
    "        'failed_products': [],\n",
    "    }\n",
    "    \n",
    "    try:\n",
    "        with conn.cursor() as cur:\n",
    "            for product in data:\n",
    "                try:\n",
    "                    # Define right structure for image_url\n",
    "                    id = product.get('id', \"\")\n",
    "                    urls = product.get('images_url', [])\n",
    "                    d = [(id, url) for url in urls]\n",
    "\n",
    "                    cur.executemany(sql, d)\n",
    "                    row_updated = cur.rowcount  \n",
    "                    \n",
    "                     # Check if actually inserted\n",
    "                    if row_updated > 0: \n",
    "                        # New insert - but no RETURNING needed with on conflict\n",
    "                        product_id = product.get('id')\n",
    "                        result['inserted_products'].append({'id': product_id})\n",
    "                        result['summary']['successful'] += 1\n",
    "                    else:\n",
    "                        # Skipped due to conflict\n",
    "                        print(f\"Product {product.get('id')} already exists, skipped\") \n",
    "                        result['summary']['skipped'] += 1               \n",
    "                        \n",
    "                    print(f\"Inserted {row_updated} images for product {id}\")\n",
    "\n",
    "                except (Exception, psycopg2.DatabaseError) as error:\n",
    "                    print(f\"Error inserting product: {error}\")\n",
    "                    result['failed_products'].append({'id': product.get('id', \"\"), 'error': str(error)})\n",
    "                    result['summary']['failed'] += 1\n",
    "                    continue\n",
    "\n",
    "            conn.commit()\n",
    "    except (Exception, psycopg2.DatabaseError) as error:\n",
    "        print(f\"Error inserting product: {error}\")  \n",
    "    finally:\n",
    "        return result"
   ]
  },
  {
   "cell_type": "code",
   "execution_count": null,
   "id": "38c0c78b",
   "metadata": {},
   "outputs": [],
   "source": [
    "def process_db():\n",
    "    conn = connect(load_config())\n",
    "\n",
    "    retry_attempts = 3\n",
    "\n",
    "    for i in range(1, 3):\n",
    "        data_file = f'batch_{i}.json'\n",
    "            \n",
    "        data = get_data(data_file)\n",
    "\n",
    "        for attempt in range(retry_attempts):\n",
    "            try:\n",
    "                import_products(data, conn)\n",
    "                import_images(data, conn)\n",
    "                break  # Exit retry loop if successful\n",
    "            except Exception as e:\n",
    "                print(f\"Attempt {attempt + 1} failed: {e}\")\n",
    "                if attempt == retry_attempts - 1:\n",
    "                    print(\"Max retries reached. Skipping this batch.\")\n",
    "    return None"
   ]
  },
  {
   "cell_type": "code",
   "execution_count": 89,
   "id": "1ef4acd9",
   "metadata": {},
   "outputs": [],
   "source": [
    "with open(f'batch_1_copy.json', 'r', encoding='utf-8') as f:\n",
    "    data = json.load(f)"
   ]
  },
  {
   "cell_type": "code",
   "execution_count": 91,
   "id": "9cf9fa07",
   "metadata": {},
   "outputs": [
    {
     "data": {
      "text/plain": [
       "[{'id': 134332490,\n",
       "  'name': 'Bộ xếp hình thông minh 55 chi tiết (nhựa) - Rèn luyện tư duy và óc sáng tạo',\n",
       "  'url_key': 'bo-xep-hinh-thong-minh-55-chi-tiet-nhua-ren-luyen-tu-duy-va-oc-sang-tao-p134332490',\n",
       "  'price': 180000,\n",
       "  'description': 'Bộ xếp hình 55 chi tiết to đại, mỗi chi tiết kích thước 11,5 x 11,5 cm Các chi tiết màu sắc khác nhau, tạo sự hứng thú cho bé khi chơi Các khớp ghép được sản suất tỉ mỉ, giúp co các việc lắp ráp của các bé thuận lợi hơn các chi tiết to, không góc cạnh, màu sắc không độc hại, an toàn cho bé khi sử dụng Bộ xếp hình giúp bé: - phát triển khả năng tư duy - Phát triển khả năng sáng tạo - rèn luyện tay - giúp bé học màu - Nhận biết hình ảnh Giá sản phẩm trên Tiki đã bao gồm thuế theo luật hiện hành. Bên cạnh đó, tuỳ vào loại sản phẩm, hình thức và địa chỉ giao hàng mà có thể phát sinh thêm chi phí khác như phí vận chuyển, phụ phí hàng cồng kềnh, thuế nhập khẩu (đối với đơn hàng giao từ nước ngoài có giá trị trên 1 triệu đồng).....',\n",
       "  'images_url': ['https://salt.tikicdn.com/ts/product/16/78/a8/2a49cd5adb967a5db74ec2fd25c17916.jpg',\n",
       "   'https://salt.tikicdn.com/ts/product/cd/67/00/029cd6a7371f1b6deea6bc2563737b56.jpg',\n",
       "   'https://salt.tikicdn.com/ts/product/5a/c5/05/badec7180df32d248fb4357d1e35896b.jpg',\n",
       "   'https://salt.tikicdn.com/ts/product/1c/63/0b/ec20859edd1ef664010f682b99628340.jpg',\n",
       "   'https://salt.tikicdn.com/ts/product/c2/d3/b9/c990e2b5c54c476b3bbddcb737838af9.jpg',\n",
       "   'https://salt.tikicdn.com/ts/product/79/36/06/4fa75caddd0f80ffc4b4eb0c14b59f79.jpg',\n",
       "   'https://salt.tikicdn.com/ts/product/20/d3/72/6600912c17f1045023b9aa0dff9f7a90.jpg',\n",
       "   'https://salt.tikicdn.com/ts/product/75/36/02/105bb65f5144066d84428d3384ab5727.jpg',\n",
       "   'https://salt.tikicdn.com/ts/product/ab/7f/e9/3d9d5e9f83efbcff21f9567dae36d241.jpg']}]"
      ]
     },
     "execution_count": 91,
     "metadata": {},
     "output_type": "execute_result"
    }
   ],
   "source": [
    "data"
   ]
  },
  {
   "cell_type": "code",
   "execution_count": 96,
   "id": "bd35b1da",
   "metadata": {},
   "outputs": [
    {
     "data": {
      "text/plain": [
       "(134332490,\n",
       " 'Bộ xếp hình thông minh 55 chi tiết (nhựa) - Rèn luyện tư duy và óc sáng tạo',\n",
       " 180000,\n",
       " 'bo-xep-hinh-thong-minh-55-chi-tiet-nhua-ren-luyen-tu-duy-va-oc-sang-tao-p134332490',\n",
       " 'Bộ xếp hình 55 chi tiết to đại, mỗi chi tiết kích thước 11,5 x 11,5 cm Các chi tiết màu sắc khác nhau, tạo sự hứng thú cho bé khi chơi Các khớp ghép được sản suất tỉ mỉ, giúp co các việc lắp ráp của các bé thuận lợi hơn các chi tiết to, không góc cạnh, màu sắc không độc hại, an toàn cho bé khi sử dụng Bộ xếp hình giúp bé: - phát triển khả năng tư duy - Phát triển khả năng sáng tạo - rèn luyện tay - giúp bé học màu - Nhận biết hình ảnh Giá sản phẩm trên Tiki đã bao gồm thuế theo luật hiện hành. Bên cạnh đó, tuỳ vào loại sản phẩm, hình thức và địa chỉ giao hàng mà có thể phát sinh thêm chi phí khác như phí vận chuyển, phụ phí hàng cồng kềnh, thuế nhập khẩu (đối với đơn hàng giao từ nước ngoài có giá trị trên 1 triệu đồng).....')"
      ]
     },
     "execution_count": 96,
     "metadata": {},
     "output_type": "execute_result"
    }
   ],
   "source": [
    "for product in data:\n",
    "\t\t\t\tproduct_data = (\n",
    "\t\t\t\t\tproduct.get('id', \"\"),\n",
    "\t\t\t\t\tproduct.get('name', \"\"),\n",
    "\t\t\t\t\tproduct.get('price', \"\"),\n",
    "\t\t\t\t\tproduct.get('url_key', \"\"),\n",
    "\t\t\t\t\tproduct.get('description', \"\"),\n",
    "\t\t\t\t)\n",
    "    \n",
    "product_data"
   ]
  },
  {
   "cell_type": "code",
   "execution_count": 116,
   "id": "178d3c75",
   "metadata": {},
   "outputs": [],
   "source": [
    "sql = \"\"\"INSERT INTO products (product_id, name, price, url_key, description)\n",
    "\t\t\t VALUES (%s, %s, %s, %s, %s)\n",
    "    RETURNING product_id\"\"\"\n",
    "\t\n",
    "product_id = None\n",
    "config = load_config()\n",
    "try:\n",
    "\twith psycopg2.connect(**config) as conn:\n",
    "\t\twith conn.cursor() as cur:\n",
    "\t\t\t\t# execute the INSERT statement\n",
    "\t\t\tfor product in data:\n",
    "\t\t\t\tproduct_data = (\n",
    "\t\t\t\t\tproduct.get('id', \"\"),\n",
    "\t\t\t\t\tproduct.get('name', \"\"),\n",
    "\t\t\t\t\tproduct.get('price', \"\"),\n",
    "\t\t\t\t\tproduct.get('url_key', \"\"),\n",
    "\t\t\t\t\tproduct.get('description', \"\"),\n",
    "\t\t\t\t)\n",
    "\t\t\t\tcur.execute(sql, product_data)\n",
    "\n",
    "\t\t\t\t# get the generated id back (not needed unless RETURNING is used)\n",
    "\t\t\t\trows = cur.fetchone()\n",
    "\t\t\t\tif rows:\n",
    "\t\t\t\t\tvendor_id = rows[0]\n",
    "\t\n",
    "\t\tconn.commit()\n",
    "except (Exception, psycopg2.DatabaseError) as error:\n",
    "\tprint(\"cmm\", error)"
   ]
  },
  {
   "cell_type": "code",
   "execution_count": 120,
   "id": "30497cac",
   "metadata": {},
   "outputs": [
    {
     "name": "stdout",
     "output_type": "stream",
     "text": [
      "Insert completed successfully.\n"
     ]
    }
   ],
   "source": [
    "sql = \"\"\"INSERT INTO images (product_id, images_url)\n",
    "\t\tVALUES (%s, %s)\"\"\"\n",
    "\n",
    "product_id = None\n",
    "config = load_config()\n",
    "\n",
    "try:\n",
    "\twith psycopg2.connect(**config) as conn:\n",
    "\t\twith conn.cursor() as cur:\n",
    "\t\t\t# execute the INSERT statement\n",
    "\t\t\tfor product in data:\n",
    "\t\t\t\tid = product.get('id', \"\")\n",
    "\t\t\t\turls = product.get('images_url', [])\n",
    "\t\t\t\tproduct_data = [(id, url) for url in urls]\n",
    "\n",
    "\t\t\t\tcur.executemany(sql, product_data)\n",
    "\n",
    "\t\t\tconn.commit()\n",
    "\t\t\tprint(\"Insert completed successfully.\")\n",
    "except (Exception, psycopg2.DatabaseError) as error:\n",
    "\tprint(\"cmm\", error)"
   ]
  }
 ],
 "metadata": {
  "kernelspec": {
   "display_name": "DEC_lab2",
   "language": "python",
   "name": "python3"
  },
  "language_info": {
   "codemirror_mode": {
    "name": "ipython",
    "version": 3
   },
   "file_extension": ".py",
   "mimetype": "text/x-python",
   "name": "python",
   "nbconvert_exporter": "python",
   "pygments_lexer": "ipython3",
   "version": "3.12.11"
  }
 },
 "nbformat": 4,
 "nbformat_minor": 5
}
